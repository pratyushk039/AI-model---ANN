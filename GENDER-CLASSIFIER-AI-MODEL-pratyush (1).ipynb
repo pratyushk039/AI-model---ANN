{
 "cells": [
  {
   "cell_type": "code",
   "execution_count": 1,
   "metadata": {
    "scrolled": true
   },
   "outputs": [
    {
     "name": "stdout",
     "output_type": "stream",
     "text": [
      "<class 'pandas.core.frame.DataFrame'>\n",
      "RangeIndex: 20050 entries, 0 to 20049\n",
      "Data columns (total 26 columns):\n",
      " #   Column                 Non-Null Count  Dtype  \n",
      "---  ------                 --------------  -----  \n",
      " 0   _unit_id               20050 non-null  int64  \n",
      " 1   _golden                20050 non-null  bool   \n",
      " 2   _unit_state            20050 non-null  object \n",
      " 3   _trusted_judgments     20050 non-null  int64  \n",
      " 4   _last_judgment_at      20000 non-null  object \n",
      " 5   gender                 19953 non-null  object \n",
      " 6   gender:confidence      20024 non-null  float64\n",
      " 7   profile_yn             20050 non-null  object \n",
      " 8   profile_yn:confidence  20050 non-null  float64\n",
      " 9   created                20050 non-null  object \n",
      " 10  description            16306 non-null  object \n",
      " 11  fav_number             20050 non-null  int64  \n",
      " 12  gender_gold            50 non-null     object \n",
      " 13  link_color             20050 non-null  object \n",
      " 14  name                   20050 non-null  object \n",
      " 15  profile_yn_gold        50 non-null     object \n",
      " 16  profileimage           20050 non-null  object \n",
      " 17  retweet_count          20050 non-null  int64  \n",
      " 18  sidebar_color          20050 non-null  object \n",
      " 19  text                   20050 non-null  object \n",
      " 20  tweet_coord            159 non-null    object \n",
      " 21  tweet_count            20050 non-null  int64  \n",
      " 22  tweet_created          20050 non-null  object \n",
      " 23  tweet_id               20050 non-null  float64\n",
      " 24  tweet_location         12566 non-null  object \n",
      " 25  user_timezone          12252 non-null  object \n",
      "dtypes: bool(1), float64(3), int64(5), object(17)\n",
      "memory usage: 3.8+ MB\n"
     ]
    },
    {
     "data": {
      "text/html": [
       "<div>\n",
       "<style scoped>\n",
       "    .dataframe tbody tr th:only-of-type {\n",
       "        vertical-align: middle;\n",
       "    }\n",
       "\n",
       "    .dataframe tbody tr th {\n",
       "        vertical-align: top;\n",
       "    }\n",
       "\n",
       "    .dataframe thead th {\n",
       "        text-align: right;\n",
       "    }\n",
       "</style>\n",
       "<table border=\"1\" class=\"dataframe\">\n",
       "  <thead>\n",
       "    <tr style=\"text-align: right;\">\n",
       "      <th></th>\n",
       "      <th>_unit_id</th>\n",
       "      <th>_trusted_judgments</th>\n",
       "      <th>gender:confidence</th>\n",
       "      <th>profile_yn:confidence</th>\n",
       "      <th>fav_number</th>\n",
       "      <th>retweet_count</th>\n",
       "      <th>tweet_count</th>\n",
       "      <th>tweet_id</th>\n",
       "    </tr>\n",
       "  </thead>\n",
       "  <tbody>\n",
       "    <tr>\n",
       "      <th>count</th>\n",
       "      <td>2.005000e+04</td>\n",
       "      <td>20050.000000</td>\n",
       "      <td>20024.000000</td>\n",
       "      <td>20050.000000</td>\n",
       "      <td>20050.000000</td>\n",
       "      <td>20050.000000</td>\n",
       "      <td>2.005000e+04</td>\n",
       "      <td>2.005000e+04</td>\n",
       "    </tr>\n",
       "    <tr>\n",
       "      <th>mean</th>\n",
       "      <td>8.157294e+08</td>\n",
       "      <td>3.615711</td>\n",
       "      <td>0.882756</td>\n",
       "      <td>0.993221</td>\n",
       "      <td>4382.201646</td>\n",
       "      <td>0.079401</td>\n",
       "      <td>3.892469e+04</td>\n",
       "      <td>6.587350e+17</td>\n",
       "    </tr>\n",
       "    <tr>\n",
       "      <th>std</th>\n",
       "      <td>6.000801e+03</td>\n",
       "      <td>12.331890</td>\n",
       "      <td>0.191403</td>\n",
       "      <td>0.047168</td>\n",
       "      <td>12518.575919</td>\n",
       "      <td>2.649751</td>\n",
       "      <td>1.168371e+05</td>\n",
       "      <td>5.000124e+12</td>\n",
       "    </tr>\n",
       "    <tr>\n",
       "      <th>min</th>\n",
       "      <td>8.157192e+08</td>\n",
       "      <td>3.000000</td>\n",
       "      <td>0.000000</td>\n",
       "      <td>0.627200</td>\n",
       "      <td>0.000000</td>\n",
       "      <td>0.000000</td>\n",
       "      <td>1.000000e+00</td>\n",
       "      <td>6.587300e+17</td>\n",
       "    </tr>\n",
       "    <tr>\n",
       "      <th>25%</th>\n",
       "      <td>8.157243e+08</td>\n",
       "      <td>3.000000</td>\n",
       "      <td>0.677800</td>\n",
       "      <td>1.000000</td>\n",
       "      <td>11.000000</td>\n",
       "      <td>0.000000</td>\n",
       "      <td>2.398000e+03</td>\n",
       "      <td>6.587300e+17</td>\n",
       "    </tr>\n",
       "    <tr>\n",
       "      <th>50%</th>\n",
       "      <td>8.157294e+08</td>\n",
       "      <td>3.000000</td>\n",
       "      <td>1.000000</td>\n",
       "      <td>1.000000</td>\n",
       "      <td>456.000000</td>\n",
       "      <td>0.000000</td>\n",
       "      <td>1.144150e+04</td>\n",
       "      <td>6.587300e+17</td>\n",
       "    </tr>\n",
       "    <tr>\n",
       "      <th>75%</th>\n",
       "      <td>8.157345e+08</td>\n",
       "      <td>3.000000</td>\n",
       "      <td>1.000000</td>\n",
       "      <td>1.000000</td>\n",
       "      <td>3315.500000</td>\n",
       "      <td>0.000000</td>\n",
       "      <td>4.002750e+04</td>\n",
       "      <td>6.587400e+17</td>\n",
       "    </tr>\n",
       "    <tr>\n",
       "      <th>max</th>\n",
       "      <td>8.157580e+08</td>\n",
       "      <td>274.000000</td>\n",
       "      <td>1.000000</td>\n",
       "      <td>1.000000</td>\n",
       "      <td>341621.000000</td>\n",
       "      <td>330.000000</td>\n",
       "      <td>2.680199e+06</td>\n",
       "      <td>6.587400e+17</td>\n",
       "    </tr>\n",
       "  </tbody>\n",
       "</table>\n",
       "</div>"
      ],
      "text/plain": [
       "           _unit_id  _trusted_judgments  gender:confidence  \\\n",
       "count  2.005000e+04        20050.000000       20024.000000   \n",
       "mean   8.157294e+08            3.615711           0.882756   \n",
       "std    6.000801e+03           12.331890           0.191403   \n",
       "min    8.157192e+08            3.000000           0.000000   \n",
       "25%    8.157243e+08            3.000000           0.677800   \n",
       "50%    8.157294e+08            3.000000           1.000000   \n",
       "75%    8.157345e+08            3.000000           1.000000   \n",
       "max    8.157580e+08          274.000000           1.000000   \n",
       "\n",
       "       profile_yn:confidence     fav_number  retweet_count   tweet_count  \\\n",
       "count           20050.000000   20050.000000   20050.000000  2.005000e+04   \n",
       "mean                0.993221    4382.201646       0.079401  3.892469e+04   \n",
       "std                 0.047168   12518.575919       2.649751  1.168371e+05   \n",
       "min                 0.627200       0.000000       0.000000  1.000000e+00   \n",
       "25%                 1.000000      11.000000       0.000000  2.398000e+03   \n",
       "50%                 1.000000     456.000000       0.000000  1.144150e+04   \n",
       "75%                 1.000000    3315.500000       0.000000  4.002750e+04   \n",
       "max                 1.000000  341621.000000     330.000000  2.680199e+06   \n",
       "\n",
       "           tweet_id  \n",
       "count  2.005000e+04  \n",
       "mean   6.587350e+17  \n",
       "std    5.000124e+12  \n",
       "min    6.587300e+17  \n",
       "25%    6.587300e+17  \n",
       "50%    6.587300e+17  \n",
       "75%    6.587400e+17  \n",
       "max    6.587400e+17  "
      ]
     },
     "execution_count": 1,
     "metadata": {},
     "output_type": "execute_result"
    }
   ],
   "source": [
    "import pandas as pd\n",
    "import numpy\n",
    "df=pd.read_csv(\"gender-classifier.csv\")\n",
    "df.info()\n",
    "df.describe()\n"
   ]
  },
  {
   "cell_type": "code",
   "execution_count": 2,
   "metadata": {
    "scrolled": true
   },
   "outputs": [
    {
     "data": {
      "text/plain": [
       "<AxesSubplot:>"
      ]
     },
     "execution_count": 2,
     "metadata": {},
     "output_type": "execute_result"
    },
    {
     "data": {
      "image/png": "[encoded data removed]",
      "text/plain": [
       "<Figure size 432x288 with 2 Axes>"
      ]
     },
     "metadata": {
      "needs_background": "light"
     },
     "output_type": "display_data"
    }
   ],
   "source": [
    "import seaborn as sb\n",
    "sb.heatmap(df.corr(method='pearson'))"
   ]
  },
  {
   "cell_type": "code",
   "execution_count": 3,
   "metadata": {},
   "outputs": [
    {
     "data": {
      "text/plain": [
       "female     6700\n",
       "male       6194\n",
       "brand      5942\n",
       "unknown    1117\n",
       "Name: gender, dtype: int64"
      ]
     },
     "execution_count": 3,
     "metadata": {},
     "output_type": "execute_result"
    }
   ],
   "source": [
    "df['gender'].value_counts()\n",
    "#everything balanced except 'unknown'.\n"
   ]
  },
  {
   "cell_type": "code",
   "execution_count": 4,
   "metadata": {
    "scrolled": true
   },
   "outputs": [
    {
     "name": "stdout",
     "output_type": "stream",
     "text": [
      "<class 'pandas.core.frame.DataFrame'>\n",
      "Int64Index: 18836 entries, 0 to 20042\n",
      "Data columns (total 9 columns):\n",
      " #   Column                 Non-Null Count  Dtype  \n",
      "---  ------                 --------------  -----  \n",
      " 0   gender                 18836 non-null  object \n",
      " 1   gender:confidence      18836 non-null  float64\n",
      " 2   _golden                18836 non-null  bool   \n",
      " 3   profile_yn             18836 non-null  object \n",
      " 4   profile_yn:confidence  18836 non-null  float64\n",
      " 5   tweet_count            18836 non-null  int64  \n",
      " 6   retweet_count          18836 non-null  int64  \n",
      " 7   tweet_location         11995 non-null  object \n",
      " 8   fav_number             18836 non-null  int64  \n",
      "dtypes: bool(1), float64(2), int64(3), object(3)\n",
      "memory usage: 1.3+ MB\n"
     ]
    }
   ],
   "source": [
    "#dropping unknown.making new dataset df_drp_gend.\n",
    "df_drp_gend1=df[df['gender']=='male']\n",
    "df_drp_gend2=df[df['gender']=='female']\n",
    "df_drp_gend3=df[df['gender']=='brand']\n",
    "df_drp_gend=df_drp_gend1.append([df_drp_gend2,df_drp_gend3])\n",
    "#feature selection.\n",
    "df_drp_gend=df_drp_gend[['gender','gender:confidence','_golden','profile_yn','profile_yn:confidence','tweet_count','retweet_count','tweet_location','fav_number',]]\n",
    "df_drp_gend.info()\n"
   ]
  },
  {
   "cell_type": "code",
   "execution_count": 5,
   "metadata": {
    "scrolled": false
   },
   "outputs": [],
   "source": [
    "#(df_drp_gend['tweet_location'].value_counts())"
   ]
  },
  {
   "cell_type": "code",
   "execution_count": 6,
   "metadata": {},
   "outputs": [],
   "source": [
    "# categorizing tweet_location.\n",
    "USA=['usa','ca','fl','la','los angeles','ny','nyc,','new york','new york city','dc','washington','wa','il','chicago','ga','atlanta','california','florida','illinois','tx','texas','austin','san francisco','seattle','boston','ma','massachusetts','pa','philadelphia','houston','tn','tennessee','nashville','denver','co','az','phoenix','or','oh','nv','vegas','carolina','jersey','colorado','oregon','san','wi','michigan','ohio','miami','georgia','in','america','nj','missouri','detroit','indiana','nd','arizona','nc','utah','ok','virginia','ms','az','mi','louisiana','minnesota','ga','bay','rhode','nevada','baltimore','md','ok','kansas','ky','ut','mo','hollywood']\n",
    "UK=['london','uk','united kingdom','england','bristol','surrey','gloucester','scotland','ireland','dublin','manchester','birmingham','glasgow','wales','leeds','essex','liverpool','derbyshire','sheffield','hampshire','equestria','cardiff','brighton','leicester','bristol','colchester','nottingham','southampton','belfast','somerset','peterborough','aberdeen','coventry','durham','cheshire']\n",
    "CANADA=['canada','toronto','vancouver','montreal','vermont','alberta','bc','edmonton','halifax','ontario','quebec']\n",
    "AFRICA=['lagos','nigeria','egypt','sa','africa','cape','johannesburg','pretoria','nairobi','kenya']\n",
    "EUROPE=['germany','milan','brussels','belgium','italy','netherlands','norway','portugal','france','paris','belfast','sweden','switzerland','finland','slovakia','denmark','spain','barcelona','poland','chernobyl','venice','stockholm','amsterdam','petersburg','munich','deustchland','athens','zurich']\n",
    "ASIA=['india','indonesia','singapore','israel','uae','arab','dubai','pakistan','karachi','delhi','hong','nadu','chennai','mumbai','maharashtra','jakarta','turkey','japan','banglore']\n",
    "AUS_NZ=['australia','sydney','zealand','auckland','melbourne','wellington','']\n",
    "for i in range(df_drp_gend.shape[0]):\n",
    "    location=df_drp_gend['tweet_location'].values[i]\n",
    "    group=''\n",
    "    try:\n",
    "        list_locations = location.lower().replace(',','').strip().split()\n",
    "    except:\n",
    "        group='Other'\n",
    "        continue\n",
    "    \n",
    "    for j in list_locations:\n",
    "        if j in USA:\n",
    "            group='USA'\n",
    "            break\n",
    "        if j in UK:\n",
    "            group='UK'\n",
    "            break\n",
    "        if j in CANADA:\n",
    "            group='CANADA'\n",
    "            break\n",
    "        if j in EUROPE:\n",
    "            group='EUROPE'#UK NOT INCLUDED BCS OF BREXIT.\n",
    "            break\n",
    "        if j in ASIA:\n",
    "            group='ASIA'\n",
    "            break\n",
    "        else:\n",
    "            group='Other'\n",
    "            break\n",
    "    df_drp_gend['tweet_location'].values[i]=group\n",
    "    \n",
    "        \n"
   ]
  },
  {
   "cell_type": "code",
   "execution_count": 7,
   "metadata": {},
   "outputs": [
    {
     "name": "stdout",
     "output_type": "stream",
     "text": [
      "['usa']\n"
     ]
    }
   ],
   "source": [
    "print(df_drp_gend['tweet_location'].values[7501].lower().replace(',','').strip().split())"
   ]
  },
  {
   "cell_type": "code",
   "execution_count": 8,
   "metadata": {},
   "outputs": [],
   "source": [
    "#manual encoding for favourite number.(OPTIONAL)\n",
    "#for i in range(df_drp_gend.shape[0]):\n",
    "    #count=df_drp_gend['fav_number'].values[i]\n",
    "    #group2=''\n",
    "    #if count==0:\n",
    "      #  group2=0\n",
    "    #elif count//2==0:\n",
    "     #   group2=2\n",
    "    #else:\n",
    "    #    group2=3\n",
    " #   df_drp_gend['fav_number'].values[i]=group2  \n",
    "    \n",
    "    "
   ]
  },
  {
   "cell_type": "code",
   "execution_count": null,
   "metadata": {
    "scrolled": true
   },
   "outputs": [],
   "source": []
  },
  {
   "cell_type": "code",
   "execution_count": 9,
   "metadata": {},
   "outputs": [],
   "source": [
    "#categorization of tweet count in ranges.based on mean of the range.\n",
    "for i in range(df_drp_gend.shape[0]):\n",
    "    count=df_drp_gend['tweet_count'].values[i]\n",
    "    if count<=50:\n",
    "        group3=25\n",
    "    elif count<=100:\n",
    "        group3=50\n",
    "    elif count<=500:\n",
    "        group3=250\n",
    "    elif count<=1000:\n",
    "        group3=500\n",
    "    elif count<=2500:\n",
    "        group3=1250\n",
    "    elif count<=5000:\n",
    "        group3=2500\n",
    "    elif count<=10000:\n",
    "        group3=5000\n",
    "    elif count<=20000:\n",
    "        group3=10000\n",
    "    elif count<=50000:\n",
    "        group3=25000\n",
    "    elif count<=100000:\n",
    "        group3=50000\n",
    "    elif count<=150000:\n",
    "        group3=75000\n",
    "    elif count<=175000:\n",
    "        group3=87500\n",
    "    elif count<=200000:\n",
    "        group3=100000\n",
    "    df_drp_gend['tweet_count'].values[i]=group3"
   ]
  },
  {
   "cell_type": "code",
   "execution_count": 10,
   "metadata": {},
   "outputs": [
    {
     "data": {
      "text/plain": [
       "25000     3770\n",
       "10000     2542\n",
       "5000      2405\n",
       "50000     2250\n",
       "2500      1929\n",
       "1250      1834\n",
       "250       1330\n",
       "500       1071\n",
       "75000      646\n",
       "25         432\n",
       "50         267\n",
       "87500      196\n",
       "100000     164\n",
       "Name: tweet_count, dtype: int64"
      ]
     },
     "execution_count": 10,
     "metadata": {},
     "output_type": "execute_result"
    }
   ],
   "source": [
    "df_drp_gend['tweet_count'].value_counts()"
   ]
  },
  {
   "cell_type": "code",
   "execution_count": 11,
   "metadata": {},
   "outputs": [],
   "source": [
    "df_drp_gend['tweet_location']=df_drp_gend['tweet_location'].fillna('Invalid/Unapplicable')"
   ]
  },
  {
   "cell_type": "code",
   "execution_count": 12,
   "metadata": {},
   "outputs": [
    {
     "name": "stdout",
     "output_type": "stream",
     "text": [
      "<class 'pandas.core.frame.DataFrame'>\n",
      "Int64Index: 18836 entries, 0 to 20042\n",
      "Data columns (total 9 columns):\n",
      " #   Column                 Non-Null Count  Dtype  \n",
      "---  ------                 --------------  -----  \n",
      " 0   gender                 18836 non-null  object \n",
      " 1   gender:confidence      18836 non-null  float64\n",
      " 2   _golden                18836 non-null  bool   \n",
      " 3   profile_yn             18836 non-null  object \n",
      " 4   profile_yn:confidence  18836 non-null  float64\n",
      " 5   tweet_count            18836 non-null  int64  \n",
      " 6   retweet_count          18836 non-null  int64  \n",
      " 7   tweet_location         18836 non-null  object \n",
      " 8   fav_number             18836 non-null  int64  \n",
      "dtypes: bool(1), float64(2), int64(3), object(3)\n",
      "memory usage: 1.3+ MB\n"
     ]
    }
   ],
   "source": [
    "df_drp_gend.info()"
   ]
  },
  {
   "cell_type": "code",
   "execution_count": 13,
   "metadata": {
    "scrolled": true
   },
   "outputs": [
    {
     "data": {
      "text/plain": [
       "{'Other': 8942,\n",
       " 'Invalid/Unapplicable': 6841,\n",
       " 'USA': 1632,\n",
       " 'UK': 875,\n",
       " 'CANADA': 244,\n",
       " 'EUROPE': 185,\n",
       " 'ASIA': 110,\n",
       " '': 7}"
      ]
     },
     "execution_count": 13,
     "metadata": {},
     "output_type": "execute_result"
    }
   ],
   "source": [
    "dict(df_drp_gend['tweet_location'].value_counts())"
   ]
  },
  {
   "cell_type": "code",
   "execution_count": 14,
   "metadata": {},
   "outputs": [
    {
     "data": {
      "text/html": [
       "<div>\n",
       "<style scoped>\n",
       "    .dataframe tbody tr th:only-of-type {\n",
       "        vertical-align: middle;\n",
       "    }\n",
       "\n",
       "    .dataframe tbody tr th {\n",
       "        vertical-align: top;\n",
       "    }\n",
       "\n",
       "    .dataframe thead th {\n",
       "        text-align: right;\n",
       "    }\n",
       "</style>\n",
       "<table border=\"1\" class=\"dataframe\">\n",
       "  <thead>\n",
       "    <tr style=\"text-align: right;\">\n",
       "      <th></th>\n",
       "      <th>gender</th>\n",
       "      <th>gender:confidence</th>\n",
       "      <th>_golden</th>\n",
       "      <th>profile_yn</th>\n",
       "      <th>profile_yn:confidence</th>\n",
       "      <th>tweet_count</th>\n",
       "      <th>retweet_count</th>\n",
       "      <th>tweet_location</th>\n",
       "      <th>fav_number</th>\n",
       "    </tr>\n",
       "  </thead>\n",
       "  <tbody>\n",
       "    <tr>\n",
       "      <th>0</th>\n",
       "      <td>male</td>\n",
       "      <td>1.0000</td>\n",
       "      <td>False</td>\n",
       "      <td>yes</td>\n",
       "      <td>1.0</td>\n",
       "      <td>75000</td>\n",
       "      <td>0</td>\n",
       "      <td>Other</td>\n",
       "      <td>0</td>\n",
       "    </tr>\n",
       "    <tr>\n",
       "      <th>1</th>\n",
       "      <td>male</td>\n",
       "      <td>1.0000</td>\n",
       "      <td>False</td>\n",
       "      <td>yes</td>\n",
       "      <td>1.0</td>\n",
       "      <td>5000</td>\n",
       "      <td>0</td>\n",
       "      <td>Invalid/Unapplicable</td>\n",
       "      <td>68</td>\n",
       "    </tr>\n",
       "    <tr>\n",
       "      <th>2</th>\n",
       "      <td>male</td>\n",
       "      <td>0.6625</td>\n",
       "      <td>False</td>\n",
       "      <td>yes</td>\n",
       "      <td>1.0</td>\n",
       "      <td>5000</td>\n",
       "      <td>1</td>\n",
       "      <td>Other</td>\n",
       "      <td>7696</td>\n",
       "    </tr>\n",
       "    <tr>\n",
       "      <th>3</th>\n",
       "      <td>male</td>\n",
       "      <td>1.0000</td>\n",
       "      <td>False</td>\n",
       "      <td>yes</td>\n",
       "      <td>1.0</td>\n",
       "      <td>1250</td>\n",
       "      <td>0</td>\n",
       "      <td>Other</td>\n",
       "      <td>202</td>\n",
       "    </tr>\n",
       "    <tr>\n",
       "      <th>7</th>\n",
       "      <td>male</td>\n",
       "      <td>1.0000</td>\n",
       "      <td>False</td>\n",
       "      <td>yes</td>\n",
       "      <td>1.0</td>\n",
       "      <td>75000</td>\n",
       "      <td>0</td>\n",
       "      <td>Invalid/Unapplicable</td>\n",
       "      <td>80</td>\n",
       "    </tr>\n",
       "    <tr>\n",
       "      <th>...</th>\n",
       "      <td>...</td>\n",
       "      <td>...</td>\n",
       "      <td>...</td>\n",
       "      <td>...</td>\n",
       "      <td>...</td>\n",
       "      <td>...</td>\n",
       "      <td>...</td>\n",
       "      <td>...</td>\n",
       "      <td>...</td>\n",
       "    </tr>\n",
       "    <tr>\n",
       "      <th>20030</th>\n",
       "      <td>brand</td>\n",
       "      <td>1.0000</td>\n",
       "      <td>True</td>\n",
       "      <td>yes</td>\n",
       "      <td>1.0</td>\n",
       "      <td>500</td>\n",
       "      <td>0</td>\n",
       "      <td>Other</td>\n",
       "      <td>137</td>\n",
       "    </tr>\n",
       "    <tr>\n",
       "      <th>20034</th>\n",
       "      <td>brand</td>\n",
       "      <td>1.0000</td>\n",
       "      <td>True</td>\n",
       "      <td>yes</td>\n",
       "      <td>1.0</td>\n",
       "      <td>2500</td>\n",
       "      <td>0</td>\n",
       "      <td>Other</td>\n",
       "      <td>192</td>\n",
       "    </tr>\n",
       "    <tr>\n",
       "      <th>20038</th>\n",
       "      <td>brand</td>\n",
       "      <td>0.8397</td>\n",
       "      <td>True</td>\n",
       "      <td>yes</td>\n",
       "      <td>1.0</td>\n",
       "      <td>5000</td>\n",
       "      <td>0</td>\n",
       "      <td>Invalid/Unapplicable</td>\n",
       "      <td>0</td>\n",
       "    </tr>\n",
       "    <tr>\n",
       "      <th>20041</th>\n",
       "      <td>brand</td>\n",
       "      <td>1.0000</td>\n",
       "      <td>True</td>\n",
       "      <td>yes</td>\n",
       "      <td>1.0</td>\n",
       "      <td>75000</td>\n",
       "      <td>0</td>\n",
       "      <td>USA</td>\n",
       "      <td>2</td>\n",
       "    </tr>\n",
       "    <tr>\n",
       "      <th>20042</th>\n",
       "      <td>brand</td>\n",
       "      <td>0.6364</td>\n",
       "      <td>True</td>\n",
       "      <td>yes</td>\n",
       "      <td>1.0</td>\n",
       "      <td>5000</td>\n",
       "      <td>0</td>\n",
       "      <td>USA</td>\n",
       "      <td>536</td>\n",
       "    </tr>\n",
       "  </tbody>\n",
       "</table>\n",
       "<p>18836 rows × 9 columns</p>\n",
       "</div>"
      ],
      "text/plain": [
       "      gender  gender:confidence  _golden profile_yn  profile_yn:confidence  \\\n",
       "0       male             1.0000    False        yes                    1.0   \n",
       "1       male             1.0000    False        yes                    1.0   \n",
       "2       male             0.6625    False        yes                    1.0   \n",
       "3       male             1.0000    False        yes                    1.0   \n",
       "7       male             1.0000    False        yes                    1.0   \n",
       "...      ...                ...      ...        ...                    ...   \n",
       "20030  brand             1.0000     True        yes                    1.0   \n",
       "20034  brand             1.0000     True        yes                    1.0   \n",
       "20038  brand             0.8397     True        yes                    1.0   \n",
       "20041  brand             1.0000     True        yes                    1.0   \n",
       "20042  brand             0.6364     True        yes                    1.0   \n",
       "\n",
       "       tweet_count  retweet_count        tweet_location  fav_number  \n",
       "0            75000              0                 Other           0  \n",
       "1             5000              0  Invalid/Unapplicable          68  \n",
       "2             5000              1                 Other        7696  \n",
       "3             1250              0                 Other         202  \n",
       "7            75000              0  Invalid/Unapplicable          80  \n",
       "...            ...            ...                   ...         ...  \n",
       "20030          500              0                 Other         137  \n",
       "20034         2500              0                 Other         192  \n",
       "20038         5000              0  Invalid/Unapplicable           0  \n",
       "20041        75000              0                   USA           2  \n",
       "20042         5000              0                   USA         536  \n",
       "\n",
       "[18836 rows x 9 columns]"
      ]
     },
     "execution_count": 14,
     "metadata": {},
     "output_type": "execute_result"
    }
   ],
   "source": [
    "df_drp_gend #DATA ANALYSIS AND CLEANING COMPLETE."
   ]
  },
  {
   "cell_type": "code",
   "execution_count": 15,
   "metadata": {},
   "outputs": [],
   "source": [
    "#fit transform\n",
    "categoricals=list(set(df_drp_gend.columns)-set(df_drp_gend.describe().columns))\n",
    "from sklearn.preprocessing import LabelEncoder\n",
    "le=LabelEncoder()\n",
    "for i in categoricals:\n",
    "    df_drp_gend[i]=le.fit_transform(df_drp_gend[i])"
   ]
  },
  {
   "cell_type": "code",
   "execution_count": 16,
   "metadata": {},
   "outputs": [
    {
     "data": {
      "text/plain": [
       "Index(['gender', 'gender:confidence', '_golden', 'profile_yn',\n",
       "       'profile_yn:confidence', 'tweet_count', 'retweet_count',\n",
       "       'tweet_location', 'fav_number'],\n",
       "      dtype='object')"
      ]
     },
     "execution_count": 16,
     "metadata": {},
     "output_type": "execute_result"
    }
   ],
   "source": [
    "df_drp_gend.columns"
   ]
  },
  {
   "cell_type": "code",
   "execution_count": 17,
   "metadata": {},
   "outputs": [
    {
     "name": "stderr",
     "output_type": "stream",
     "text": [
      "c:\\users\\praty\\appdata\\local\\programs\\python\\python39\\lib\\site-packages\\sklearn\\utils\\validation.py:63: DataConversionWarning: A column-vector y was passed when a 1d array was expected. Please change the shape of y to (n_samples, ), for example using ravel().\n",
      "  return f(*args, **kwargs)\n",
      "<ipython-input-17-f7f41a48e686>:16: DataConversionWarning: A column-vector y was passed when a 1d array was expected. Please change the shape of y to (n_samples,), for example using ravel().\n",
      "  rfc.fit(X_train,Y_train)\n"
     ]
    },
    {
     "data": {
      "text/plain": [
       "RandomForestClassifier()"
      ]
     },
     "execution_count": 17,
     "metadata": {},
     "output_type": "execute_result"
    }
   ],
   "source": [
    "# AI PART STARTS - SKLEARN\n",
    "X=df_drp_gend[['gender:confidence', '_golden', 'profile_yn',\n",
    "       'profile_yn:confidence', 'tweet_count', 'retweet_count',\n",
    "       'tweet_location','fav_number',]].values\n",
    "Y=df_drp_gend[['gender']].values\n",
    "from sklearn.preprocessing import MinMaxScaler #NORMALIZATION\n",
    "normalized=MinMaxScaler().fit_transform(X)\n",
    "from sklearn.ensemble import RandomForestClassifier\n",
    "from sklearn.svm import SVC\n",
    "from sklearn.model_selection import train_test_split\n",
    "from sklearn.metrics import accuracy_score\n",
    "rfc=RandomForestClassifier()\n",
    "svc=SVC()\n",
    "X_train,X_test,Y_train,Y_test=train_test_split(normalized,Y,train_size=0.75)\n",
    "svc.fit(X_train,Y_train)\n",
    "rfc.fit(X_train,Y_train)"
   ]
  },
  {
   "cell_type": "code",
   "execution_count": 42,
   "metadata": {},
   "outputs": [
    {
     "name": "stdout",
     "output_type": "stream",
     "text": [
      "0.43894669781269907\n"
     ]
    },
    {
     "data": {
      "text/plain": [
       "0.47610957740496923"
      ]
     },
     "execution_count": 42,
     "metadata": {},
     "output_type": "execute_result"
    }
   ],
   "source": [
    "Y_pred_rfc=rfc.predict(X_test)\n",
    "Y_pred_svc=svc.predict(X_test)\n",
    "print(accuracy_score(Y_test,Y_pred_svc))\n",
    "accuracy_score(Y_test,Y_pred_rfc)\n"
   ]
  },
  {
   "cell_type": "code",
   "execution_count": 20,
   "metadata": {},
   "outputs": [
    {
     "name": "stderr",
     "output_type": "stream",
     "text": [
      "c:\\users\\praty\\appdata\\local\\programs\\python\\python39\\lib\\site-packages\\sklearn\\utils\\validation.py:63: DataConversionWarning: A column-vector y was passed when a 1d array was expected. Please change the shape of y to (n_samples, ), for example using ravel().\n",
      "  return f(*args, **kwargs)\n"
     ]
    },
    {
     "name": "stdout",
     "output_type": "stream",
     "text": [
      "Iteration 1, loss = 1.13367974\n",
      "Iteration 2, loss = 1.09083700\n",
      "Iteration 3, loss = 1.08664580\n",
      "Iteration 4, loss = 1.08330059\n",
      "Iteration 5, loss = 1.08039591\n",
      "Iteration 6, loss = 1.07819479\n",
      "Iteration 7, loss = 1.07549235\n",
      "Iteration 8, loss = 1.07343760\n",
      "Iteration 9, loss = 1.07154010\n",
      "Iteration 10, loss = 1.06986898\n",
      "Iteration 11, loss = 1.06789909\n",
      "Iteration 12, loss = 1.06614049\n",
      "Iteration 13, loss = 1.06446962\n",
      "Iteration 14, loss = 1.06275699\n",
      "Iteration 15, loss = 1.06109979\n",
      "Iteration 16, loss = 1.05975051\n",
      "Iteration 17, loss = 1.05851692\n",
      "Iteration 18, loss = 1.05720085\n",
      "Iteration 19, loss = 1.05582927\n",
      "Iteration 20, loss = 1.05383338\n",
      "Iteration 21, loss = 1.05260816\n",
      "Iteration 22, loss = 1.05189810\n",
      "Iteration 23, loss = 1.04958994\n",
      "Iteration 24, loss = 1.04785892\n",
      "Iteration 25, loss = 1.04776278\n",
      "Iteration 26, loss = 1.04505488\n",
      "Iteration 27, loss = 1.04370871\n",
      "Iteration 28, loss = 1.04349281\n",
      "Iteration 29, loss = 1.04124685\n",
      "Iteration 30, loss = 1.03936241\n",
      "Iteration 31, loss = 1.03882241\n",
      "Iteration 32, loss = 1.03672546\n",
      "Iteration 33, loss = 1.03537894\n",
      "Iteration 34, loss = 1.03430852\n",
      "Iteration 35, loss = 1.03218795\n",
      "Iteration 36, loss = 1.03128253\n",
      "Iteration 37, loss = 1.03011004\n",
      "Iteration 38, loss = 1.02860712\n",
      "Iteration 39, loss = 1.02742618\n",
      "Iteration 40, loss = 1.02543878\n",
      "Iteration 41, loss = 1.02464806\n",
      "Iteration 42, loss = 1.02282564\n",
      "Iteration 43, loss = 1.02204831\n",
      "Iteration 44, loss = 1.02012521\n",
      "Iteration 45, loss = 1.01896420\n",
      "Iteration 46, loss = 1.01737208\n",
      "Iteration 47, loss = 1.01666985\n",
      "Iteration 48, loss = 1.01470438\n",
      "Iteration 49, loss = 1.01516457\n",
      "Iteration 50, loss = 1.01357038\n",
      "Iteration 51, loss = 1.01157736\n",
      "Iteration 52, loss = 1.01158242\n",
      "Iteration 53, loss = 1.00927586\n",
      "Iteration 54, loss = 1.00811155\n",
      "Iteration 55, loss = 1.00741425\n",
      "Iteration 56, loss = 1.00633960\n",
      "Iteration 57, loss = 1.00570530\n",
      "Iteration 58, loss = 1.00502083\n",
      "Iteration 59, loss = 1.00405036\n",
      "Iteration 60, loss = 1.00385972\n",
      "Iteration 61, loss = 1.00204123\n",
      "Iteration 62, loss = 1.00182597\n",
      "Iteration 63, loss = 1.00087328\n",
      "Iteration 64, loss = 1.00011644\n",
      "Iteration 65, loss = 0.99861518\n",
      "Iteration 66, loss = 0.99848327\n",
      "Iteration 67, loss = 0.99910108\n",
      "Iteration 68, loss = 0.99629536\n",
      "Iteration 69, loss = 0.99547940\n",
      "Iteration 70, loss = 0.99495601\n",
      "Iteration 71, loss = 0.99630205\n",
      "Iteration 72, loss = 0.99407214\n",
      "Iteration 73, loss = 0.99297163\n",
      "Iteration 74, loss = 0.99193704\n",
      "Iteration 75, loss = 0.99163104\n",
      "Iteration 76, loss = 0.99144603\n",
      "Iteration 77, loss = 0.99124622\n",
      "Iteration 78, loss = 0.99113951\n",
      "Iteration 79, loss = 0.98991068\n",
      "Iteration 80, loss = 0.98964935\n",
      "Iteration 81, loss = 0.98905869\n",
      "Iteration 82, loss = 0.98843288\n",
      "Iteration 83, loss = 0.98876679\n",
      "Iteration 84, loss = 0.98760508\n",
      "Iteration 85, loss = 0.98697429\n",
      "Iteration 86, loss = 0.98686065\n",
      "Iteration 87, loss = 0.98561429\n",
      "Iteration 88, loss = 0.98587394\n",
      "Iteration 89, loss = 0.98513198\n",
      "Iteration 90, loss = 0.98489517\n",
      "Iteration 91, loss = 0.98496960\n",
      "Iteration 92, loss = 0.98478391\n",
      "Iteration 93, loss = 0.98446880\n",
      "Iteration 94, loss = 0.98359548\n",
      "Iteration 95, loss = 0.98319640\n",
      "Iteration 96, loss = 0.98296218\n",
      "Iteration 97, loss = 0.98429737\n",
      "Iteration 98, loss = 0.98197943\n",
      "Iteration 99, loss = 0.98279509\n",
      "Iteration 100, loss = 0.98194321\n",
      "Iteration 101, loss = 0.98116492\n",
      "Iteration 102, loss = 0.98081717\n",
      "Iteration 103, loss = 0.98040842\n",
      "Iteration 104, loss = 0.98050295\n",
      "Iteration 105, loss = 0.98005888\n",
      "Iteration 106, loss = 0.97949081\n",
      "Iteration 107, loss = 0.97951334\n",
      "Iteration 108, loss = 0.97912437\n",
      "Iteration 109, loss = 0.97912152\n",
      "Iteration 110, loss = 0.97927503\n",
      "Iteration 111, loss = 0.97785287\n",
      "Iteration 112, loss = 0.97807000\n",
      "Iteration 113, loss = 0.97769152\n",
      "Iteration 114, loss = 0.97800589\n",
      "Iteration 115, loss = 0.97643968\n",
      "Iteration 116, loss = 0.97703266\n",
      "Iteration 117, loss = 0.97716656\n",
      "Iteration 118, loss = 0.97680462\n",
      "Iteration 119, loss = 0.97570700\n",
      "Iteration 120, loss = 0.97756924\n",
      "Iteration 121, loss = 0.97663119\n",
      "Iteration 122, loss = 0.97496031\n",
      "Iteration 123, loss = 0.97432878\n",
      "Iteration 124, loss = 0.97434679\n",
      "Iteration 125, loss = 0.97517824\n",
      "Iteration 126, loss = 0.97494812\n",
      "Iteration 127, loss = 0.97452701\n",
      "Iteration 128, loss = 0.97506667\n",
      "Iteration 129, loss = 0.97311086\n",
      "Iteration 130, loss = 0.97389827\n",
      "Iteration 131, loss = 0.97381055\n",
      "Iteration 132, loss = 0.97307314\n",
      "Iteration 133, loss = 0.97356052\n",
      "Iteration 134, loss = 0.97259652\n",
      "Iteration 135, loss = 0.97239575\n",
      "Iteration 136, loss = 0.97377749\n",
      "Iteration 137, loss = 0.97226852\n",
      "Iteration 138, loss = 0.97562158\n",
      "Iteration 139, loss = 0.97226123\n",
      "Iteration 140, loss = 0.97177504\n",
      "Iteration 141, loss = 0.97192124\n",
      "Iteration 142, loss = 0.97132341\n",
      "Iteration 143, loss = 0.97303566\n",
      "Iteration 144, loss = 0.97132860\n",
      "Iteration 145, loss = 0.97085924\n",
      "Iteration 146, loss = 0.97121072\n",
      "Iteration 147, loss = 0.97157044\n",
      "Iteration 148, loss = 0.97127327\n",
      "Iteration 149, loss = 0.97052253\n",
      "Iteration 150, loss = 0.97023207\n",
      "Iteration 151, loss = 0.97021323\n",
      "Iteration 152, loss = 0.97092029\n",
      "Iteration 153, loss = 0.96973190\n",
      "Iteration 154, loss = 0.97059914\n",
      "Iteration 155, loss = 0.96908957\n",
      "Iteration 156, loss = 0.97049126\n",
      "Iteration 157, loss = 0.97008460\n",
      "Iteration 158, loss = 0.97129846\n",
      "Iteration 159, loss = 0.96904023\n",
      "Iteration 160, loss = 0.96838243\n",
      "Iteration 161, loss = 0.96949649\n",
      "Iteration 162, loss = 0.96848106\n",
      "Iteration 163, loss = 0.96850516\n",
      "Iteration 164, loss = 0.96848796\n",
      "Iteration 165, loss = 0.96911993\n",
      "Iteration 166, loss = 0.96808884\n",
      "Iteration 167, loss = 0.96875192\n",
      "Iteration 168, loss = 0.96854005\n",
      "Iteration 169, loss = 0.96752291\n",
      "Iteration 170, loss = 0.96775421\n",
      "Iteration 171, loss = 0.96737262\n",
      "Iteration 172, loss = 0.96832326\n",
      "Iteration 173, loss = 0.96809018\n",
      "Iteration 174, loss = 0.96904714\n",
      "Iteration 175, loss = 0.96894394\n",
      "Iteration 176, loss = 0.96752551\n",
      "Iteration 177, loss = 0.96628778\n",
      "Iteration 178, loss = 0.96636280\n",
      "Iteration 179, loss = 0.96718404\n",
      "Iteration 180, loss = 0.96752303\n",
      "Iteration 181, loss = 0.96730518\n",
      "Iteration 182, loss = 0.96715326\n",
      "Iteration 183, loss = 0.96639352\n",
      "Iteration 184, loss = 0.96729424\n",
      "Iteration 185, loss = 0.96699126\n",
      "Iteration 186, loss = 0.96603287\n",
      "Iteration 187, loss = 0.96620130\n",
      "Iteration 188, loss = 0.96753180\n",
      "Iteration 189, loss = 0.96654143\n",
      "Iteration 190, loss = 0.96782018\n",
      "Iteration 191, loss = 0.96574459\n",
      "Iteration 192, loss = 0.96541831\n",
      "Iteration 193, loss = 0.96606056\n",
      "Iteration 194, loss = 0.96612154\n",
      "Iteration 195, loss = 0.96503645\n",
      "Iteration 196, loss = 0.96482697\n",
      "Iteration 197, loss = 0.96471381\n",
      "Iteration 198, loss = 0.96517905\n",
      "Iteration 199, loss = 0.96518859\n",
      "Iteration 200, loss = 0.96551300\n"
     ]
    },
    {
     "name": "stderr",
     "output_type": "stream",
     "text": [
      "c:\\users\\praty\\appdata\\local\\programs\\python\\python39\\lib\\site-packages\\sklearn\\neural_network\\_multilayer_perceptron.py:614: ConvergenceWarning: Stochastic Optimizer: Maximum iterations (200) reached and the optimization hasn't converged yet.\n",
      "  warnings.warn(\n"
     ]
    },
    {
     "data": {
      "text/plain": [
       "MLPClassifier(hidden_layer_sizes=(20, 8), verbose=True)"
      ]
     },
     "execution_count": 20,
     "metadata": {},
     "output_type": "execute_result"
    }
   ],
   "source": [
    "from sklearn.neural_network import MLPClassifier\n",
    "opt='adam'\n",
    "mlp=MLPClassifier(hidden_layer_sizes=(20,8),activation = 'relu',solver=opt,verbose=True)\n",
    "mlp.fit(X_train,Y_train)"
   ]
  },
  {
   "cell_type": "code",
   "execution_count": null,
   "metadata": {
    "scrolled": true
   },
   "outputs": [],
   "source": [
    "y_pred_nn=mlp.predict(X_test)\n",
    "accuracy_score(Y_test,y_pred_nn)"
   ]
  },
  {
   "cell_type": "code",
   "execution_count": 47,
   "metadata": {},
   "outputs": [
    {
     "name": "stdout",
     "output_type": "stream",
     "text": [
      "WARNING:tensorflow:Please add `keras.layers.InputLayer` instead of `keras.Input` to Sequential model. `keras.Input` is intended to be used by Functional model.\n",
      "Epoch 1/35\n",
      "221/221 [==============================] - 0s 886us/step - loss: 1.0776 - accuracy: 0.4093\n",
      "Epoch 2/35\n",
      "221/221 [==============================] - 0s 836us/step - loss: 1.0561 - accuracy: 0.4333\n",
      "Epoch 3/35\n",
      "221/221 [==============================] - 0s 868us/step - loss: 1.0376 - accuracy: 0.4435\n",
      "Epoch 4/35\n",
      "221/221 [==============================] - 0s 1ms/step - loss: 1.0244 - accuracy: 0.4533\n",
      "Epoch 5/35\n",
      "221/221 [==============================] - 0s 823us/step - loss: 1.0105 - accuracy: 0.4594\n",
      "Epoch 6/35\n",
      "221/221 [==============================] - 0s 868us/step - loss: 1.0066 - accuracy: 0.4640\n",
      "Epoch 7/35\n",
      "221/221 [==============================] - 0s 859us/step - loss: 1.0031 - accuracy: 0.4630\n",
      "Epoch 8/35\n",
      "221/221 [==============================] - 0s 859us/step - loss: 1.0021 - accuracy: 0.4658\n",
      "Epoch 9/35\n",
      "221/221 [==============================] - 0s 891us/step - loss: 0.9978 - accuracy: 0.4725\n",
      "Epoch 10/35\n",
      "221/221 [==============================] - 0s 864us/step - loss: 0.9945 - accuracy: 0.4703\n",
      "Epoch 11/35\n",
      "221/221 [==============================] - 0s 859us/step - loss: 0.9926 - accuracy: 0.4783\n",
      "Epoch 12/35\n",
      "221/221 [==============================] - 0s 827us/step - loss: 0.9882 - accuracy: 0.4777\n",
      "Epoch 13/35\n",
      "221/221 [==============================] - 0s 1ms/step - loss: 0.9890 - accuracy: 0.4790\n",
      "Epoch 14/35\n",
      "221/221 [==============================] - 0s 873us/step - loss: 0.9821 - accuracy: 0.4855\n",
      "Epoch 15/35\n",
      "221/221 [==============================] - 0s 818us/step - loss: 0.9835 - accuracy: 0.4839\n",
      "Epoch 16/35\n",
      "221/221 [==============================] - 0s 814us/step - loss: 0.9853 - accuracy: 0.4862\n",
      "Epoch 17/35\n",
      "221/221 [==============================] - 0s 850us/step - loss: 0.9800 - accuracy: 0.4891\n",
      "Epoch 18/35\n",
      "221/221 [==============================] - 0s 864us/step - loss: 0.9816 - accuracy: 0.4792\n",
      "Epoch 19/35\n",
      "221/221 [==============================] - 0s 1ms/step - loss: 0.9801 - accuracy: 0.4880\n",
      "Epoch 20/35\n",
      "221/221 [==============================] - 0s 891us/step - loss: 0.9838 - accuracy: 0.4787\n",
      "Epoch 21/35\n",
      "221/221 [==============================] - 0s 900us/step - loss: 0.9810 - accuracy: 0.4849\n",
      "Epoch 22/35\n",
      "221/221 [==============================] - 0s 859us/step - loss: 0.9764 - accuracy: 0.4896\n",
      "Epoch 23/35\n",
      "221/221 [==============================] - 0s 891us/step - loss: 0.9811 - accuracy: 0.4847\n",
      "Epoch 24/35\n",
      "221/221 [==============================] - 0s 880us/step - loss: 0.9784 - accuracy: 0.4893\n",
      "Epoch 25/35\n",
      "221/221 [==============================] - 0s 896us/step - loss: 0.9760 - accuracy: 0.4892\n",
      "Epoch 26/35\n",
      "221/221 [==============================] - 0s 891us/step - loss: 0.9776 - accuracy: 0.4853\n",
      "Epoch 27/35\n",
      "221/221 [==============================] - 0s 882us/step - loss: 0.9800 - accuracy: 0.4912\n",
      "Epoch 28/35\n",
      "221/221 [==============================] - 0s 927us/step - loss: 0.9730 - accuracy: 0.4939\n",
      "Epoch 29/35\n",
      "221/221 [==============================] - 0s 986us/step - loss: 0.9755 - accuracy: 0.4925\n",
      "Epoch 30/35\n",
      "221/221 [==============================] - 0s 1ms/step - loss: 0.9724 - accuracy: 0.4942\n",
      "Epoch 31/35\n",
      "221/221 [==============================] - 0s 859us/step - loss: 0.9703 - accuracy: 0.4980\n",
      "Epoch 32/35\n",
      "221/221 [==============================] - 0s 877us/step - loss: 0.9733 - accuracy: 0.4880\n",
      "Epoch 33/35\n",
      "221/221 [==============================] - 0s 904us/step - loss: 0.9702 - accuracy: 0.4935\n",
      "Epoch 34/35\n",
      "221/221 [==============================] - 0s 895us/step - loss: 0.9758 - accuracy: 0.4906\n",
      "Epoch 35/35\n",
      "221/221 [==============================] - 0s 1ms/step - loss: 0.9737 - accuracy: 0.4916\n"
     ]
    },
    {
     "data": {
      "text/plain": [
       "<tensorflow.python.keras.callbacks.History at 0x26a217c65b0>"
      ]
     },
     "execution_count": 47,
     "metadata": {},
     "output_type": "execute_result"
    }
   ],
   "source": [
    "# Tensorflow\n",
    "from tensorflow import keras\n",
    "from tensorflow.keras.layers import Input, Dense, Activation\n",
    "from tensorflow.keras import Sequential\n",
    "tnflow=Sequential()\n",
    "tnflow.add(Input(shape=(8,)),)\n",
    "tnflow.add(Dense(40, activation='relu'),)\n",
    "keras.layers.Dropout(rate=0.2) #1/5 random drops to avoid overfitting.\n",
    "tnflow.add(Dense(20, activation='relu'),)\n",
    "keras.layers.Dropout(rate=0.1)\n",
    "tnflow.add(Dense(11, activation='relu'),)\n",
    "tnflow.add(Dense(3, activation='softmax'),)\n",
    "opt=keras.optimizers.Adam(learning_rate=0.008)\n",
    "tnflow.compile(optimizer=opt,loss='sparse_categorical_crossentropy',metrics=['accuracy'])\n",
    "tnflow.fit(X_train,Y_train,epochs=35,batch_size=64)\n",
    "\n",
    "\n"
   ]
  },
  {
   "cell_type": "code",
   "execution_count": null,
   "metadata": {},
   "outputs": [],
   "source": []
  },
  {
   "cell_type": "code",
   "execution_count": null,
   "metadata": {},
   "outputs": [],
   "source": [
    "\n"
   ]
  },
  {
   "cell_type": "code",
   "execution_count": null,
   "metadata": {},
   "outputs": [],
   "source": []
  }
 ],
 "metadata": {
  "kernelspec": {
   "display_name": "Python 3",
   "language": "python",
   "name": "python3"
  },
  "language_info": {
   "codemirror_mode": {
    "name": "ipython",
    "version": 3
   },
   "file_extension": ".py",
   "mimetype": "text/x-python",
   "name": "python",
   "nbconvert_exporter": "python",
   "pygments_lexer": "ipython3",
   "version": "3.9.5"
  }
 },
 "nbformat": 4,
 "nbformat_minor": 4
}
